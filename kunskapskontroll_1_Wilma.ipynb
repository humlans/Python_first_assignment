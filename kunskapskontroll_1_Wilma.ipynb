{
 "cells": [
  {
   "cell_type": "markdown",
   "id": "f193e061",
   "metadata": {},
   "source": [
    "# Kunskapskontroll 1\n",
    "The exercises are connected to the video available at: https://www.youtube.com/watch?v=M7bnYJyCx0Q from 0:00 to 1:02:20.\n",
    "\n",
    "When writing the solutions make sure the code is clear and readable. When providing comments, follow the general principle that you should comment \"why\" you are doing something and not \"what\", the \"what\" is seen by the code itself. \n",
    "\n",
    "You should write the code yourself but just as in reality you should discuss and cooperate with class-colleagues, this is the group part of the assignment. "
   ]
  },
  {
   "cell_type": "markdown",
   "id": "fca64927",
   "metadata": {},
   "source": [
    "### Add and multiply the two numbers below. "
   ]
  },
  {
   "cell_type": "code",
   "execution_count": 136,
   "id": "a904dc86",
   "metadata": {},
   "outputs": [],
   "source": [
    "nr1 = 5\n",
    "nr2 = 10"
   ]
  },
  {
   "cell_type": "code",
   "execution_count": 137,
   "id": "e6dbf0a8",
   "metadata": {},
   "outputs": [
    {
     "name": "stdout",
     "output_type": "stream",
     "text": [
      "Result from adding 5 and 10: 15\n",
      "Result from multiplying 5 and 10: 50\n",
      "\n",
      "Result from adding 5 and 10 with the function: 15\n",
      "Result from multiplying 5 and 10 with the function: 50\n"
     ]
    }
   ],
   "source": [
    "# For a simple addition and multiplication of the numbers simply use the corresponding operator and print.\n",
    "print(f'Result from adding {nr1} and {nr2}:', nr1 + nr2)\n",
    "print(f'Result from multiplying {nr1} and {nr2}:', nr1 * nr2)\n",
    "print()\n",
    "\n",
    "# Or make two functions which is preferable if you want to do add/multiply any two numbers\n",
    "# in several different instances.\n",
    "def add_two_numbers(num1, num2):\n",
    "    return num1 + num2\n",
    "\n",
    "def multiply_two_numbers(num1, num2):\n",
    "    return num1 * num2\n",
    "\n",
    "print(f'Result from adding {nr1} and {nr2} with the function:', add_two_numbers(nr1, nr2))\n",
    "print(f'Result from multiplying {nr1} and {nr2} with the function:', multiply_two_numbers(nr1, nr2))"
   ]
  },
  {
   "cell_type": "markdown",
   "id": "73a0e54d",
   "metadata": {},
   "source": [
    "# Lists"
   ]
  },
  {
   "cell_type": "markdown",
   "id": "86d1e9fb",
   "metadata": {},
   "source": [
    "### Extract the first and last element in the list."
   ]
  },
  {
   "cell_type": "code",
   "execution_count": 138,
   "id": "bcf3c7c7",
   "metadata": {},
   "outputs": [],
   "source": [
    "l = [1, 2, 3, 10, 15, 100]"
   ]
  },
  {
   "cell_type": "code",
   "execution_count": 139,
   "id": "c8c1ad57",
   "metadata": {},
   "outputs": [
    {
     "name": "stdout",
     "output_type": "stream",
     "text": [
      "The first element is: 1\n",
      "The last element is: 100\n",
      "\n",
      "The last element using index -1 is: 100\n"
     ]
    }
   ],
   "source": [
    "# List have a zero-based indexing system, which means that the first element's index is 0.\n",
    "print(f'The first element is:', l[0])\n",
    "\n",
    "# If the size of the list is known, count the indexes and use the last one.\n",
    "print(f'The last element is:', l[5])\n",
    "print()\n",
    "\n",
    "# If the size of the list is unknown or too big to count, use -1 to get the last element in the list.\n",
    "print(f'The last element using index -1 is:', l[-1])"
   ]
  },
  {
   "cell_type": "markdown",
   "id": "acd427da",
   "metadata": {},
   "source": [
    "### Check if the first and last number is the same in each list respectively. So, we expect the answer True in list_1 and False in list_2."
   ]
  },
  {
   "cell_type": "code",
   "execution_count": 140,
   "id": "191cc82d",
   "metadata": {},
   "outputs": [],
   "source": [
    "list_1 = [10, 20, 30, 40, 10]\n",
    "list_2 = [75, 65, 35, 75, 30]"
   ]
  },
  {
   "cell_type": "code",
   "execution_count": 141,
   "id": "3abe7838",
   "metadata": {},
   "outputs": [
    {
     "name": "stdout",
     "output_type": "stream",
     "text": [
      "First and last number in list_1 are the same: True\n",
      "First and last numbers in list_2 are the same: False\n"
     ]
    }
   ],
   "source": [
    "def check_first_and_last_number(provided_list):\n",
    "    first_number = provided_list[0]\n",
    "    last_number = provided_list[-1]\n",
    "    if first_number == last_number:\n",
    "        return True\n",
    "    else:\n",
    "        return False\n",
    "\n",
    "print(f'First and last number in list_1 are the same:', check_first_and_last_number(list_1))\n",
    "print(f'First and last numbers in list_2 are the same:', check_first_and_last_number(list_2))\n"
   ]
  },
  {
   "cell_type": "markdown",
   "id": "fbe9606a",
   "metadata": {},
   "source": [
    "### Replace the number 4567 in the list with the number 22. "
   ]
  },
  {
   "cell_type": "code",
   "execution_count": 142,
   "id": "c112096f",
   "metadata": {},
   "outputs": [],
   "source": [
    "replace_4567 = [100, 2, 4567, 5, 7]"
   ]
  },
  {
   "cell_type": "code",
   "execution_count": 143,
   "id": "b88c6628",
   "metadata": {},
   "outputs": [
    {
     "name": "stdout",
     "output_type": "stream",
     "text": [
      "Original list: [100, 2, 4567, 5, 7]\n",
      "Changed list using index: [100, 2, 22, 5, 7]\n",
      "\n",
      "Original list: [100, 2, 4567, 5, 7]\n",
      "Changed list using a function: [100, 2, 22, 5, 7]\n"
     ]
    }
   ],
   "source": [
    "# Changing the value of one element in a list using the index.\n",
    "print(f'Original list:', replace_4567)\n",
    "replace_4567[2] = 22\n",
    "print(f'Changed list using index:', replace_4567)\n",
    "print()\n",
    "\n",
    "# Another way to replace a number in a list is to create a function.\n",
    "replace_4567 = [100, 2, 4567, 5, 7]\n",
    "print(f'Original list:', replace_4567)\n",
    "\n",
    "def replace_4567_with_22(provided_list):\n",
    "    for index in range(len(provided_list)):\n",
    "        if provided_list[index] == 4567:\n",
    "            provided_list[index] = 22\n",
    "    return provided_list\n",
    "            \n",
    "print(f'Changed list using a function:', replace_4567_with_22(replace_4567))"
   ]
  },
  {
   "cell_type": "markdown",
   "id": "32fe337d",
   "metadata": {},
   "source": [
    "### Replace the two numbers 3 and 4 with 30 and 40 in one line of code  by using slicing. "
   ]
  },
  {
   "cell_type": "code",
   "execution_count": 144,
   "id": "9d3eecd6",
   "metadata": {},
   "outputs": [],
   "source": [
    "replace_two_numbers = [1, 2, 3, 4, 5]"
   ]
  },
  {
   "cell_type": "code",
   "execution_count": 145,
   "id": "e6798e4f",
   "metadata": {},
   "outputs": [
    {
     "name": "stdout",
     "output_type": "stream",
     "text": [
      "Original list: [1, 2, 3, 4, 5]\n",
      "Changed list: [1, 2, 30, 40, 5]\n"
     ]
    }
   ],
   "source": [
    "print(f'Original list:', replace_two_numbers)\n",
    "\n",
    "# When using slicing, the left parameter is used but the right one is not included.\n",
    "replace_two_numbers[2:4] = [30, 40]\n",
    "print(f'Changed list:', replace_two_numbers)"
   ]
  },
  {
   "cell_type": "markdown",
   "id": "1d595e27",
   "metadata": {},
   "source": [
    "### Print out the list below but in reverse order."
   ]
  },
  {
   "cell_type": "code",
   "execution_count": 146,
   "id": "6df7567f",
   "metadata": {},
   "outputs": [],
   "source": [
    "my_list = [1, 2, 3, 10, 15, 100]"
   ]
  },
  {
   "cell_type": "code",
   "execution_count": 147,
   "id": "88e8e811",
   "metadata": {},
   "outputs": [
    {
     "name": "stdout",
     "output_type": "stream",
     "text": [
      "[100, 15, 10, 3, 2, 1]\n",
      "\n",
      "[100, 15, 10, 3, 2, 1]\n"
     ]
    }
   ],
   "source": [
    "# The reverse function will reverse the order of the indexes in the list.\n",
    "my_list.reverse()\n",
    "print(my_list)\n",
    "print()\n",
    "\n",
    "# Changes the list to the original order.\n",
    "my_list = [1, 2, 3, 10, 15, 100]\n",
    "\n",
    "# Following will only print without changing the list.\n",
    "print(my_list[::-1])"
   ]
  },
  {
   "cell_type": "markdown",
   "id": "54c58e8a",
   "metadata": {},
   "source": [
    "### Extract the following numbers with indexing or slicing:\n",
    "* The number 5 in the list within the list. \n",
    "* Extract the whole list [10, 12, 13, 5, 100].\n",
    "* Extract 12, 13, 5 in the list within the list\n",
    "* Extract the number 8888 with negative indexing.\n",
    "* Extract 1, 2, [10, 12, 13, 5, 100]."
   ]
  },
  {
   "cell_type": "code",
   "execution_count": 148,
   "id": "c12e313d",
   "metadata": {},
   "outputs": [],
   "source": [
    "list_containing_a_list = [1, 2, [10, 12, 13, 5, 100], 8888, 3, [1, 2, 3]]"
   ]
  },
  {
   "cell_type": "code",
   "execution_count": 149,
   "id": "7801b694",
   "metadata": {},
   "outputs": [
    {
     "name": "stdout",
     "output_type": "stream",
     "text": [
      "5\n",
      "[10, 12, 13, 5, 100]\n",
      "[12, 13, 5]\n",
      "8888\n",
      "[1, 2, [10, 12, 13, 5, 100]]\n"
     ]
    }
   ],
   "source": [
    "# One value in a list within a list means indexing is used twice.\n",
    "print(list_containing_a_list[2][3])\n",
    "\n",
    "# Only one element in a list to be extracted means indexing, which will return another list in this case.\n",
    "print(list_containing_a_list[2])\n",
    "\n",
    "# Use slicing when multiple values are to be extracted.\n",
    "print(list_containing_a_list[2][1:4])\n",
    "\n",
    "# Negative indexing starts at -1, which gives 8888 the negative index -3.\n",
    "print(list_containing_a_list[-3])\n",
    "\n",
    "# Use slicing when multiple values are to be extracted, even if the element is a list.\n",
    "print(list_containing_a_list[0:3])"
   ]
  },
  {
   "cell_type": "markdown",
   "id": "731a9e3e",
   "metadata": {},
   "source": [
    "### Append the empty list with the number 10 and the string 'Hello'. You should use the append method twice. "
   ]
  },
  {
   "cell_type": "code",
   "execution_count": 150,
   "id": "faecabaa",
   "metadata": {},
   "outputs": [],
   "source": [
    "empty_list_1 = []"
   ]
  },
  {
   "cell_type": "code",
   "execution_count": 151,
   "id": "e5e57508",
   "metadata": {},
   "outputs": [
    {
     "name": "stdout",
     "output_type": "stream",
     "text": [
      "[10]\n",
      "[10, 'Hello']\n"
     ]
    }
   ],
   "source": [
    "empty_list_1.append(10)\n",
    "print(empty_list_1)\n",
    "\n",
    "empty_list_1.append('Hello')\n",
    "print(empty_list_1)"
   ]
  },
  {
   "cell_type": "markdown",
   "id": "bebb5618",
   "metadata": {},
   "source": [
    "### Append the empty list with the number 10 and the string 'Hello'. You should use the extend method once. "
   ]
  },
  {
   "cell_type": "code",
   "execution_count": 152,
   "id": "82e7301a",
   "metadata": {},
   "outputs": [],
   "source": [
    "empty_list_2 = []"
   ]
  },
  {
   "cell_type": "code",
   "execution_count": 153,
   "id": "ffc6525f",
   "metadata": {},
   "outputs": [
    {
     "name": "stdout",
     "output_type": "stream",
     "text": [
      "[10, 'Hello']\n",
      "\n",
      "[10, 'Hello']\n"
     ]
    }
   ],
   "source": [
    "# If the empty_list_1 contains the number 10 and the string 'Hello', extend it.\n",
    "empty_list_2.extend(empty_list_1)\n",
    "print(empty_list_2)\n",
    "print()\n",
    "\n",
    "empty_list_2.clear()\n",
    "\n",
    "# Or you can create another list in the extend method with the number 10 and the string 'Hello'.\n",
    "empty_list_2.extend([10, 'Hello'])\n",
    "print(empty_list_2)"
   ]
  },
  {
   "cell_type": "markdown",
   "id": "539b730a",
   "metadata": {},
   "source": [
    "### Use list comprehension to create a new list from list_example, where each number is mulitplied by 10. You should only include the numbers between 4-8 where 4 and 8 is included."
   ]
  },
  {
   "cell_type": "code",
   "execution_count": 154,
   "id": "14300485",
   "metadata": {},
   "outputs": [],
   "source": [
    "list_example = [1, 2, 3, 4, 5, 6, 7, 8, 9, 10]"
   ]
  },
  {
   "cell_type": "code",
   "execution_count": 155,
   "id": "61207a3b",
   "metadata": {},
   "outputs": [
    {
     "name": "stdout",
     "output_type": "stream",
     "text": [
      "[40, 50, 60, 70, 80]\n"
     ]
    }
   ],
   "source": [
    "# Because the right parameter in the slice is not used the end-index is for the number 9.\n",
    "new_list = [x*10 for x in list_example[3:8]]\n",
    "print(new_list)"
   ]
  },
  {
   "cell_type": "markdown",
   "id": "49aa8bb4",
   "metadata": {},
   "source": [
    "### Concatenate the two lists below elementwise so you get a new list ['My', 'name', 'is', 'Antonio']. Hint: use the zip function. \n",
    "Expected output: [\"My\", \"name\", \"is\", \"Antonio\"]. "
   ]
  },
  {
   "cell_type": "code",
   "execution_count": 156,
   "id": "fde2701c",
   "metadata": {},
   "outputs": [],
   "source": [
    "list_1 = [\"M\", \"na\", \"i\", \"Anto\"]\n",
    "list_2 = [\"y\", \"me\", \"s\", \"nio\"]"
   ]
  },
  {
   "cell_type": "code",
   "execution_count": 157,
   "id": "3e7f0356",
   "metadata": {},
   "outputs": [
    {
     "name": "stdout",
     "output_type": "stream",
     "text": [
      "Without zip: ['My', 'name', 'is', 'Antonio']\n",
      "With zip: ['My', 'name', 'is', 'Antonio']\n"
     ]
    }
   ],
   "source": [
    "# Solution without zip.\n",
    "new_list = []\n",
    "\n",
    "for x in range(len(list_1)):\n",
    "    first_string = list_1[x]\n",
    "    second_string = list_2[x]\n",
    "    new_list.append(first_string + second_string)\n",
    "\n",
    "print(f'Without zip:', new_list)\n",
    "\n",
    "# Solution with zip.\n",
    "another_new_list = []\n",
    "\n",
    "# By unpacking the tuples gotten from zipping the two lists we can directly add them together in a new list.\n",
    "for element_1, element_2 in zip(list_1, list_2):\n",
    "    another_new_list.append(element_1 + element_2)\n",
    "\n",
    "print(f'With zip:', another_new_list)"
   ]
  },
  {
   "cell_type": "markdown",
   "id": "56bf725b",
   "metadata": {},
   "source": [
    "# Tuples"
   ]
  },
  {
   "cell_type": "markdown",
   "id": "d389f5d9",
   "metadata": {},
   "source": [
    "### Unpack the tuple so that we get 4 new variables. "
   ]
  },
  {
   "cell_type": "code",
   "execution_count": 158,
   "id": "391422e9",
   "metadata": {},
   "outputs": [],
   "source": [
    "my_tuple = (10, 20, 30, 40)"
   ]
  },
  {
   "cell_type": "code",
   "execution_count": 159,
   "id": "bc420b70",
   "metadata": {},
   "outputs": [
    {
     "name": "stdout",
     "output_type": "stream",
     "text": [
      "10\n",
      "20\n",
      "30\n",
      "40\n"
     ]
    }
   ],
   "source": [
    "var1, var2, var3, var4 = my_tuple\n",
    "\n",
    "print(var1)\n",
    "print(var2)\n",
    "print(var3)\n",
    "print(var4)"
   ]
  },
  {
   "cell_type": "markdown",
   "id": "e3dbd7e3",
   "metadata": {},
   "source": [
    "### Explain with your own words what the code below containing two scenarios does. "
   ]
  },
  {
   "cell_type": "code",
   "execution_count": 160,
   "id": "9cd720b9",
   "metadata": {},
   "outputs": [
    {
     "name": "stdout",
     "output_type": "stream",
     "text": [
      "2\n",
      "4\n",
      "8\n",
      "16\n",
      "\n",
      "(3, 9, 27, 81)\n"
     ]
    }
   ],
   "source": [
    "def f(x): \n",
    "    # The function takes a variable x and returns \n",
    "    # x, \n",
    "    # x raised to the power of 2, \n",
    "    # x raised raised to the power of 3 and \n",
    "    # x raised raised to the power of 4.\n",
    "    return (x, x**2, x**3, x**4)\n",
    "\n",
    "# Scenario 1.\n",
    "# The number 2 is sent into the function to be raised to the power of 1-4.\n",
    "# The tuple returned from the function is unpacked into four different variables.\n",
    "x1, x2, x3, x4 = f(2) \n",
    "# The four variables are printed.\n",
    "print(x1)\n",
    "print(x2)\n",
    "print(x3)\n",
    "print(x4)\n",
    "\n",
    "print()\n",
    "\n",
    "# Scenario 2.\n",
    "# The number 3 is sent into the function to be raised to the power of 1-4.\n",
    "# The tuple returned by the function is assigned to the variable x.\n",
    "x = f(3)\n",
    "# The variable x is printed.\n",
    "print(x)"
   ]
  },
  {
   "cell_type": "markdown",
   "id": "a1d0ad8c",
   "metadata": {},
   "source": [
    "### Count the number of times 24 occurs in the tupple. "
   ]
  },
  {
   "cell_type": "code",
   "execution_count": 161,
   "id": "da5e6047",
   "metadata": {},
   "outputs": [],
   "source": [
    "tuple_22 = 24, 2, 4, 24, 24, 5"
   ]
  },
  {
   "cell_type": "code",
   "execution_count": 162,
   "id": "818a5471",
   "metadata": {},
   "outputs": [
    {
     "name": "stdout",
     "output_type": "stream",
     "text": [
      "The number 24 is in the tuple: 3 times\n"
     ]
    }
   ],
   "source": [
    "print(f'The number 24 is in the tuple: {tuple_22.count(24)} times')"
   ]
  },
  {
   "cell_type": "markdown",
   "id": "02b90433",
   "metadata": {},
   "source": [
    "### Swap the two tuples, i.e. t1 should be replaced by t2 and vice versa. "
   ]
  },
  {
   "cell_type": "code",
   "execution_count": 163,
   "id": "d0bf409a",
   "metadata": {},
   "outputs": [],
   "source": [
    "t1 = ('Python', 'MATLAB')\n",
    "t2 = ('R', 'Julia')"
   ]
  },
  {
   "cell_type": "code",
   "execution_count": 164,
   "id": "54e7301b",
   "metadata": {},
   "outputs": [
    {
     "name": "stdout",
     "output_type": "stream",
     "text": [
      "Before changing: ('Python', 'MATLAB') and ('R', 'Julia')\n",
      "After changing: ('R', 'Julia') and ('Python', 'MATLAB')\n"
     ]
    }
   ],
   "source": [
    "print(f'Before changing: {t1} and {t2}')\n",
    "\n",
    "# A temporary tuple to hold one of the tuples when changing is needed.\n",
    "temp_tuple = t1\n",
    "t1 = t2\n",
    "t2 = temp_tuple\n",
    "\n",
    "print(f'After changing: {t1} and {t2}')"
   ]
  },
  {
   "cell_type": "markdown",
   "id": "f44bc333",
   "metadata": {},
   "source": [
    "# Dictionaries"
   ]
  },
  {
   "cell_type": "markdown",
   "id": "c59f5a5a",
   "metadata": {},
   "source": [
    "### We have two lists, use both of them to convert it to a dictionary. l1 should be the keys whereas l2 should be the values. Hint, use the zip function. "
   ]
  },
  {
   "cell_type": "code",
   "execution_count": 165,
   "id": "c22949bc",
   "metadata": {},
   "outputs": [],
   "source": [
    "l1 = [1, 2, 3]\n",
    "l2 = ['Python', 'C++', 'Java']"
   ]
  },
  {
   "cell_type": "code",
   "execution_count": 166,
   "id": "d32b1d97",
   "metadata": {},
   "outputs": [
    {
     "name": "stdout",
     "output_type": "stream",
     "text": [
      "{1: 'Python', 2: 'C++', 3: 'Java'}\n"
     ]
    }
   ],
   "source": [
    "my_dict = dict(zip(l1, l2))\n",
    "print(my_dict)"
   ]
  },
  {
   "cell_type": "markdown",
   "id": "08c24361",
   "metadata": {},
   "source": [
    "### Print out the value corresponding to the key \"1\"."
   ]
  },
  {
   "cell_type": "code",
   "execution_count": 167,
   "id": "64ed0f46",
   "metadata": {},
   "outputs": [],
   "source": [
    "dictionary = {0: 'Easy', 1: 'as', 2: 'ABC'}"
   ]
  },
  {
   "cell_type": "code",
   "execution_count": 168,
   "id": "283ece07",
   "metadata": {},
   "outputs": [
    {
     "data": {
      "text/plain": [
       "'as'"
      ]
     },
     "execution_count": 168,
     "metadata": {},
     "output_type": "execute_result"
    }
   ],
   "source": [
    "dictionary.get(1)"
   ]
  },
  {
   "cell_type": "markdown",
   "id": "49657a9e",
   "metadata": {},
   "source": [
    "### Explain with your own words what the code does. "
   ]
  },
  {
   "cell_type": "code",
   "execution_count": 169,
   "id": "b31f3461",
   "metadata": {},
   "outputs": [],
   "source": [
    "# A function is created taking one variable.\n",
    "def y(x):\n",
    "    # The variable is raised to the power of 1-3.\n",
    "    y0 = x\n",
    "    y1 = x**2\n",
    "    y2 = x**3\n",
    "    \n",
    "    # The function returns a dictionary with the keywords y0, y1, y2 and the corresponding values.\n",
    "    return {'y0': y0, 'y1': y1 ,'y2': y2}"
   ]
  },
  {
   "cell_type": "code",
   "execution_count": 170,
   "id": "16e62182",
   "metadata": {},
   "outputs": [
    {
     "data": {
      "text/plain": [
       "4"
      ]
     },
     "execution_count": 170,
     "metadata": {},
     "output_type": "execute_result"
    }
   ],
   "source": [
    "# The function y(x) is called with the value 2 as x.\n",
    "# From the returned dictionary we look for the value with the key 'y1'.\n",
    "# Which will give us a 4 because 2*2 = 4.\n",
    "y(2)['y1']"
   ]
  },
  {
   "cell_type": "markdown",
   "id": "018b60ac",
   "metadata": {},
   "source": [
    "# Sets"
   ]
  },
  {
   "cell_type": "markdown",
   "id": "e2b2b51c",
   "metadata": {},
   "source": [
    "### Create a set named my_set containing the items: Python, R, MATLAB, Julia, SAS, C.  "
   ]
  },
  {
   "cell_type": "code",
   "execution_count": 171,
   "id": "79a04e2a",
   "metadata": {},
   "outputs": [
    {
     "name": "stdout",
     "output_type": "stream",
     "text": [
      "{'Julia', 'SAS', 'MATLAB', 'C', 'Python', 'R'}\n"
     ]
    }
   ],
   "source": [
    "my_set = {'Python', 'R', 'MATLAB', 'Julia', 'SAS', 'C'}\n",
    "print(my_set)"
   ]
  },
  {
   "cell_type": "markdown",
   "id": "4b22140b",
   "metadata": {},
   "source": [
    "### Find all elements that are in atleast one of the sets. "
   ]
  },
  {
   "cell_type": "code",
   "execution_count": 172,
   "id": "59a5c7ef",
   "metadata": {},
   "outputs": [],
   "source": [
    "set_a = {1, 2, 99}\n",
    "set_b = {0, 100, 15, 765}"
   ]
  },
  {
   "cell_type": "code",
   "execution_count": 173,
   "id": "cb6f8df0",
   "metadata": {},
   "outputs": [
    {
     "name": "stdout",
     "output_type": "stream",
     "text": [
      "{0, 1, 2, 99, 100, 765, 15}\n"
     ]
    }
   ],
   "source": [
    "print(set_a.union(set_b))"
   ]
  },
  {
   "cell_type": "markdown",
   "id": "a7b6740f",
   "metadata": {},
   "source": [
    "### Find all the items that are in *both* lists and return those values in a list. "
   ]
  },
  {
   "cell_type": "code",
   "execution_count": 174,
   "id": "9a81165c",
   "metadata": {},
   "outputs": [],
   "source": [
    "l1 = ['Python', 'R', 'MATLAB', 'Julia']\n",
    "l2 = ['Python', 'Julia']"
   ]
  },
  {
   "cell_type": "code",
   "execution_count": 175,
   "id": "555feeef",
   "metadata": {},
   "outputs": [
    {
     "name": "stdout",
     "output_type": "stream",
     "text": [
      "Result with nested loops: ['Python', 'Julia']\n",
      "\n",
      "Result with intersectino: ['Julia', 'Python']\n"
     ]
    }
   ],
   "source": [
    "# One inefficient way of doing this is by using nested loops to compare all elements in l1 and l2.\n",
    "new_list = []\n",
    "for x in l1:\n",
    "    for y in l2:\n",
    "        if x == y:\n",
    "            new_list.append(x)\n",
    "\n",
    "print (f'Result with nested loops:', new_list)\n",
    "print()\n",
    "\n",
    "# The easier way is to convert the lists into sets and use the intersection-method.\n",
    "# To ensure that the new variable is a list convert the returned value of the intersection-method to a list.\n",
    "another_new_list = list(set(l1).intersection(set(l2)))\n",
    "print(f'Result with intersectino:', another_new_list)\n",
    "            "
   ]
  },
  {
   "cell_type": "markdown",
   "id": "8a79680b",
   "metadata": {},
   "source": [
    "### Find all the unique elements of the list. "
   ]
  },
  {
   "cell_type": "code",
   "execution_count": 176,
   "id": "b3564d41",
   "metadata": {},
   "outputs": [],
   "source": [
    "L = [1, 1, 2, 2, 3, 1, 2]"
   ]
  },
  {
   "cell_type": "code",
   "execution_count": 177,
   "id": "ed1ef5e2",
   "metadata": {},
   "outputs": [
    {
     "name": "stdout",
     "output_type": "stream",
     "text": [
      "{1, 2, 3}\n"
     ]
    }
   ],
   "source": [
    "# Convert the list into a set in order to remove dupolicate.\n",
    "# A set does not care abput duplicates nor does it care about the order.\n",
    "unique_elements = set(L)\n",
    "print(unique_elements)"
   ]
  },
  {
   "cell_type": "markdown",
   "id": "68969341",
   "metadata": {},
   "source": [
    "### Find all the elements that are in set_1 but not in set_2."
   ]
  },
  {
   "cell_type": "code",
   "execution_count": 178,
   "id": "4e1d29c9",
   "metadata": {},
   "outputs": [],
   "source": [
    "set_1 = {1, 2, 3, 4, 5, 6}\n",
    "set_2 = set([1, 3, 4])"
   ]
  },
  {
   "cell_type": "code",
   "execution_count": 179,
   "id": "c62d1c2d",
   "metadata": {},
   "outputs": [
    {
     "name": "stdout",
     "output_type": "stream",
     "text": [
      "Using difference-method: {2, 5, 6}\n",
      "Using '-' operator: {2, 5, 6}\n"
     ]
    }
   ],
   "source": [
    "# The difference-method checks which elements occure in the first set but not in the second.\n",
    "# The order in which these two sets are written will return different values.\n",
    "# Which means the following two statements will return different answers:\n",
    "# set_1.difference(set_2)\n",
    "# set_2.difference(set_1)\n",
    "\n",
    "# To find elements that are present in only set_1 but not set_2. \n",
    "print(f'Using difference-method:', set_1.difference(set_2))\n",
    "\n",
    "# Two sets can also be compared by using the - operator.\n",
    "print(f\"Using '-' operator:\", set_1 - set_2)"
   ]
  },
  {
   "cell_type": "markdown",
   "id": "38863120",
   "metadata": {},
   "source": [
    "# Iteration & Loops"
   ]
  },
  {
   "cell_type": "markdown",
   "id": "8e6bf0e5",
   "metadata": {},
   "source": [
    "### Print out all the elements in the list \"looping_list\" with a for loop."
   ]
  },
  {
   "cell_type": "code",
   "execution_count": 180,
   "id": "69039249",
   "metadata": {},
   "outputs": [],
   "source": [
    "looping_list = [0, 'a', 'b', [1, 2, 3], ('Python', 'R'), 55]"
   ]
  },
  {
   "cell_type": "code",
   "execution_count": 181,
   "id": "2e0c7dec",
   "metadata": {},
   "outputs": [
    {
     "name": "stdout",
     "output_type": "stream",
     "text": [
      "0\n",
      "a\n",
      "b\n",
      "[1, 2, 3]\n",
      "('Python', 'R')\n",
      "55\n"
     ]
    }
   ],
   "source": [
    "for element in looping_list:\n",
    "    print(element)"
   ]
  },
  {
   "cell_type": "markdown",
   "id": "f58c2b64",
   "metadata": {},
   "source": [
    "### Print out all the elements in the list \"looping_list\" and enumerate the iteration number."
   ]
  },
  {
   "cell_type": "code",
   "execution_count": 182,
   "id": "cb4b490c",
   "metadata": {},
   "outputs": [],
   "source": [
    "looping_list = [0, 'a', 'b', [1, 2, 3], ('Python', 'R'), 55]"
   ]
  },
  {
   "cell_type": "code",
   "execution_count": 183,
   "id": "b401f949",
   "metadata": {},
   "outputs": [
    {
     "name": "stdout",
     "output_type": "stream",
     "text": [
      "0: 0\n",
      "1: a\n",
      "2: b\n",
      "3: [1, 2, 3]\n",
      "4: ('Python', 'R')\n",
      "5: 55\n"
     ]
    }
   ],
   "source": [
    "for iteration_nr, element in enumerate(looping_list):\n",
    "    print(str(iteration_nr)+ ': ' + str(element))"
   ]
  },
  {
   "cell_type": "markdown",
   "id": "296e1f3a",
   "metadata": {},
   "source": [
    "### Write a for loop to print out each letter in the string. "
   ]
  },
  {
   "cell_type": "code",
   "execution_count": 184,
   "id": "e3aae8b8",
   "metadata": {},
   "outputs": [],
   "source": [
    "for_string = 'Python!'"
   ]
  },
  {
   "cell_type": "code",
   "execution_count": 185,
   "id": "339911b9",
   "metadata": {},
   "outputs": [
    {
     "name": "stdout",
     "output_type": "stream",
     "text": [
      "P\n",
      "y\n",
      "t\n",
      "h\n",
      "o\n",
      "n\n",
      "!\n"
     ]
    }
   ],
   "source": [
    "for symbol in for_string:\n",
    "    print(symbol)"
   ]
  },
  {
   "cell_type": "markdown",
   "id": "68a29b13",
   "metadata": {},
   "source": [
    "### Write a while loop to print out each letter in the string. "
   ]
  },
  {
   "cell_type": "code",
   "execution_count": 186,
   "id": "0fe72c4d",
   "metadata": {},
   "outputs": [],
   "source": [
    "while_string = 'Is Awesome!'"
   ]
  },
  {
   "cell_type": "code",
   "execution_count": 187,
   "id": "8cf73954",
   "metadata": {},
   "outputs": [
    {
     "name": "stdout",
     "output_type": "stream",
     "text": [
      "I\n",
      "s\n",
      "A\n",
      "w\n",
      "e\n",
      "s\n",
      "o\n",
      "m\n",
      "e\n"
     ]
    }
   ],
   "source": [
    "counter = 0\n",
    "while counter < len(while_string):\n",
    "    # To check if the current character is a letter use the isalpha-method.\n",
    "    if while_string[counter].isalpha():\n",
    "        print(while_string[counter])\n",
    "    counter += 1"
   ]
  },
  {
   "cell_type": "markdown",
   "id": "84f69821",
   "metadata": {},
   "source": [
    "### Print the numbers 1, 2, ..., 10 with a while loop. "
   ]
  },
  {
   "cell_type": "code",
   "execution_count": 188,
   "id": "b26edc56",
   "metadata": {},
   "outputs": [
    {
     "name": "stdout",
     "output_type": "stream",
     "text": [
      "1\n",
      "2\n",
      "3\n",
      "4\n",
      "5\n",
      "6\n",
      "7\n",
      "8\n",
      "9\n",
      "10\n"
     ]
    }
   ],
   "source": [
    "number = 1\n",
    "while number < 11:\n",
    "    print(number)\n",
    "    number += 1"
   ]
  },
  {
   "cell_type": "markdown",
   "id": "38122cd9",
   "metadata": {},
   "source": [
    "### Print out all numbers that are divisible by 5 in the list \"numbers\". \n",
    "Hint: Use the modulo operator %. A number is divisible by 5 if the remainder after dividing by 5 is 0. "
   ]
  },
  {
   "cell_type": "code",
   "execution_count": 189,
   "id": "4a77126f",
   "metadata": {},
   "outputs": [],
   "source": [
    "numbers = [10, 20, 34, 46, 55]"
   ]
  },
  {
   "cell_type": "code",
   "execution_count": 190,
   "id": "63913f9b",
   "metadata": {},
   "outputs": [
    {
     "name": "stdout",
     "output_type": "stream",
     "text": [
      "10\n",
      "20\n",
      "55\n"
     ]
    }
   ],
   "source": [
    "for number in numbers:\n",
    "    if number%5 == 0:\n",
    "        print(number)"
   ]
  },
  {
   "cell_type": "markdown",
   "id": "097e4726",
   "metadata": {},
   "source": [
    "### Print the numbers 0, 5, 10, 15, 20 with a for-loop and using the range function."
   ]
  },
  {
   "cell_type": "code",
   "execution_count": 191,
   "id": "e6730d54",
   "metadata": {},
   "outputs": [
    {
     "name": "stdout",
     "output_type": "stream",
     "text": [
      "0\n",
      "5\n",
      "10\n",
      "15\n",
      "20\n"
     ]
    }
   ],
   "source": [
    "# The range start at the given number but will end one number before the given stop number.\n",
    "# range(start, stop, step)\n",
    "for number in range(0, 21, 5):\n",
    "    print(number)"
   ]
  },
  {
   "cell_type": "markdown",
   "id": "fe281ab3",
   "metadata": {},
   "source": [
    "### Use a for loop to create a new list from list_example, where each number is mulitplied by 10. You should only include the numbers between 4-8 where 4 and 8 is included. (In general it is better to do this with list comprehension since it is more efficient but this is for exercise purpose.)"
   ]
  },
  {
   "cell_type": "code",
   "execution_count": 192,
   "id": "12303023",
   "metadata": {},
   "outputs": [],
   "source": [
    "list_example = [1, 2, 3, 4, 5, 6, 7, 8, 9, 10]"
   ]
  },
  {
   "cell_type": "code",
   "execution_count": 193,
   "id": "6b1360d5",
   "metadata": {},
   "outputs": [
    {
     "name": "stdout",
     "output_type": "stream",
     "text": [
      "[40, 50, 60, 70, 80]\n"
     ]
    }
   ],
   "source": [
    "new_list = []\n",
    "\n",
    "for number in list_example:\n",
    "    if 3 < number < 9:\n",
    "        new_list.append(number*10)\n",
    "        \n",
    "print(new_list)\n",
    "        "
   ]
  },
  {
   "cell_type": "markdown",
   "id": "73fc584a",
   "metadata": {},
   "source": [
    "# Functions"
   ]
  },
  {
   "cell_type": "markdown",
   "id": "63236e09",
   "metadata": {},
   "source": [
    "### Create a function \"uppercase_converter\" that converts a string to uppercase. For example: uppercase_converter('hello') should return the value HELLO. "
   ]
  },
  {
   "cell_type": "code",
   "execution_count": 194,
   "id": "fa434d45",
   "metadata": {},
   "outputs": [
    {
     "name": "stdout",
     "output_type": "stream",
     "text": [
      "HELLO\n",
      "BYE\n"
     ]
    }
   ],
   "source": [
    "def uppercase_converter(string):\n",
    "    return string.upper()\n",
    "\n",
    "print(uppercase_converter('hello'))\n",
    "print(uppercase_converter('bye'))"
   ]
  },
  {
   "cell_type": "markdown",
   "id": "9103f538",
   "metadata": {},
   "source": [
    "### Create a function that accepts two arguments and that returns the sum and subtraction of the numbers. "
   ]
  },
  {
   "cell_type": "code",
   "execution_count": 196,
   "id": "6475dc5a",
   "metadata": {},
   "outputs": [
    {
     "name": "stdout",
     "output_type": "stream",
     "text": [
      "[9, -1]\n",
      "[17, 3]\n"
     ]
    }
   ],
   "source": [
    "def add_and_substract_two_numbers(num1, num2):\n",
    "    return [num1 + num2, num1 - num2]\n",
    "\n",
    "print(add_and_substract_two_numbers(4, 5))\n",
    "print(add_and_substract_two_numbers(10, 7))"
   ]
  },
  {
   "cell_type": "markdown",
   "id": "18c3c48a",
   "metadata": {},
   "source": [
    "### Create  a function that contains positional only, positional or keyword and finally keyword arguments only. Hint:\n",
    "**def f(pos_only_1, /, pos_or_kwd, *, kwd_only_1)** ."
   ]
  },
  {
   "cell_type": "code",
   "execution_count": 197,
   "id": "d0d75159",
   "metadata": {},
   "outputs": [
    {
     "name": "stdout",
     "output_type": "stream",
     "text": [
      "Only positional arguments\n",
      "15\n",
      "15\n",
      "\n",
      "Either positional or keyword arguments in function\n",
      "8\n",
      "8\n",
      "8\n",
      "\n",
      "Function with only keyword arguments\n",
      "You choose: Book\n",
      "It costs: 300 sek\n",
      "\n",
      "You choose: Book\n",
      "It costs: 300 sek\n"
     ]
    }
   ],
   "source": [
    "# A '/' will reguire that the argument perceding it are positional.\n",
    "def positional_addition(num1, num2,/):\n",
    "    print(num1 + num2)\n",
    "\n",
    "print('Only positional arguments')\n",
    "positional_addition(10, 5)\n",
    "positional_addition(5, 10)\n",
    "# positional_addition(num1 = 5, num2 = 10) -- will give a SyntaxError.\n",
    "print()\n",
    "\n",
    "# With neither '/' or '*' in the () it means that the arguments can be either keyword or positional.\n",
    "def positional_or_keyword(num1, num2):\n",
    "    print(num1 + num2)\n",
    "\n",
    "print('Either positional or keyword arguments in function')\n",
    "positional_or_keyword(5, num2 = 3)\n",
    "positional_or_keyword(5, 3)\n",
    "positional_or_keyword(num2 = 3, num1 = 5)\n",
    "print()\n",
    "\n",
    "# If a * is placed before arguments they need to be keyword arguments.\n",
    "def product_introduction(*, price, name):\n",
    "    print(f'You choose:', name)\n",
    "    print(f'It costs: {price} sek')\n",
    "\n",
    "# Keywords arguments are useful because it does not matter in which order they are given.\n",
    "print('Function with only keyword arguments')\n",
    "product_introduction(price = 300, name ='Book')\n",
    "print()\n",
    "product_introduction(name = 'Book', price = 300)"
   ]
  },
  {
   "cell_type": "markdown",
   "id": "a677a3a7",
   "metadata": {},
   "source": [
    "### Assign a different name to the function and call it through the new name."
   ]
  },
  {
   "cell_type": "code",
   "execution_count": 198,
   "id": "c3538cea",
   "metadata": {},
   "outputs": [
    {
     "data": {
      "text/plain": [
       "3"
      ]
     },
     "execution_count": 198,
     "metadata": {},
     "output_type": "execute_result"
    }
   ],
   "source": [
    "def my_sum_function(x1, x2):\n",
    "    return x1 + x2\n",
    "\n",
    "my_sum_function(1,2)"
   ]
  },
  {
   "cell_type": "code",
   "execution_count": 199,
   "id": "cf8d1c0d",
   "metadata": {},
   "outputs": [
    {
     "name": "stdout",
     "output_type": "stream",
     "text": [
      "3\n"
     ]
    }
   ],
   "source": [
    "add_function = my_sum_function\n",
    "adding_two_numbers = add_function(1, 2)\n",
    "\n",
    "print(adding_two_numbers)"
   ]
  },
  {
   "cell_type": "markdown",
   "id": "12e8be7b",
   "metadata": {},
   "source": [
    "### Write a function f that takes three arguments. The first two are numbers whereas the third is specifying wheter you want to multiply or add them. \n",
    "Example: \n",
    "\n",
    "f(2, 5, 'add') = 7\n",
    "\n",
    "f(2, 5, 'multiply') = 10\n",
    "\n",
    "f(2, 5, 'test') should return an error (raise an exception) and print out the message: Choose either \"add\" or \"multiply\" ."
   ]
  },
  {
   "cell_type": "code",
   "execution_count": 200,
   "id": "8ef8102e",
   "metadata": {},
   "outputs": [
    {
     "name": "stdout",
     "output_type": "stream",
     "text": [
      "Adding: 14\n",
      "Multiplying: 4\n",
      "Choose either \"add\" or \"multiply\"\n"
     ]
    }
   ],
   "source": [
    "def add_or_multiply(num1, num2, operator):\n",
    "    if operator == 'add':\n",
    "        return num1 + num2\n",
    "    elif operator == 'multiply':\n",
    "        return num1 * num2\n",
    "    else:\n",
    "        raise Exception('Choose either \"add\" or \"multiply\"')\n",
    "        \n",
    "print(f'Adding:', add_or_multiply(12, 2, 'add'))\n",
    "print(f'Multiplying:', add_or_multiply(2, 2, 'multiply'))\n",
    "# Depending on the program we may want it to crash, remove this try-statement in that case.\n",
    "try:\n",
    "    print(add_or_multiply(2, 3, 'test'))\n",
    "except Exception:\n",
    "    print ('Choose either \"add\" or \"multiply\"')"
   ]
  },
  {
   "cell_type": "markdown",
   "id": "5dc23d6b",
   "metadata": {},
   "source": [
    "### Run the program below and explain what it does."
   ]
  },
  {
   "cell_type": "code",
   "execution_count": 201,
   "id": "e0588bd9",
   "metadata": {},
   "outputs": [
    {
     "name": "stdout",
     "output_type": "stream",
     "text": [
      "What is your name dear stranger?Tia\n",
      "Mom, I met a person whose name is: Tia\n"
     ]
    }
   ],
   "source": [
    "name = input('What is your name dear stranger? ')\n",
    "\n",
    "print('Mom, I met a person whose name is:', name)"
   ]
  },
  {
   "cell_type": "markdown",
   "id": "87168115",
   "metadata": {},
   "source": [
    "The program above takes an input from the user, puts that input in a variable \n",
    "and uses that variable to complete the print-command."
   ]
  },
  {
   "cell_type": "markdown",
   "id": "7d7d35c1",
   "metadata": {},
   "source": [
    "# General Exercises"
   ]
  },
  {
   "cell_type": "markdown",
   "id": "d8cdd732",
   "metadata": {},
   "source": [
    "### Check if the strings below is a palindrome meaning that if you reverse the string it is the same. \n",
    "Example: anna reversed is still anna meaning it is a palindrome. john reversed is nhoj meaning it is not a palindrome. "
   ]
  },
  {
   "cell_type": "code",
   "execution_count": 202,
   "id": "53b6d2bb",
   "metadata": {},
   "outputs": [],
   "source": [
    "string_1 = 'anna'\n",
    "string_2 = 'john'"
   ]
  },
  {
   "cell_type": "code",
   "execution_count": 203,
   "id": "b6c1e2a4",
   "metadata": {},
   "outputs": [
    {
     "name": "stdout",
     "output_type": "stream",
     "text": [
      "True\n",
      "False\n"
     ]
    }
   ],
   "source": [
    "def is_palindrome(string):\n",
    "    reversed_string = string[::-1]\n",
    "    if reversed_string == string:\n",
    "        return True\n",
    "    else:\n",
    "        return False\n",
    "    \n",
    "print(is_palindrome(string_1))\n",
    "print(is_palindrome(string_2))"
   ]
  },
  {
   "cell_type": "markdown",
   "id": "d8b71cd7",
   "metadata": {},
   "source": [
    "### Explain, with your own words, the difference between the two code blocks below. When would you prefer the respective method? Can you create two own examples when each method might be useful?\n",
    "A good link: https://stackoverflow.com/questions/9271712/difference-between-multiple-ifs-and-elifs ."
   ]
  },
  {
   "cell_type": "code",
   "execution_count": 204,
   "id": "1fe19154",
   "metadata": {},
   "outputs": [],
   "source": [
    "number = 8 "
   ]
  },
  {
   "cell_type": "code",
   "execution_count": 205,
   "id": "54b25f3b",
   "metadata": {},
   "outputs": [
    {
     "name": "stdout",
     "output_type": "stream",
     "text": [
      "Less than 10\n",
      "Less than 100\n"
     ]
    }
   ],
   "source": [
    "if number < 5:\n",
    "    print('Less than 5')\n",
    "if number < 10:\n",
    "    print('Less than 10')\n",
    "if number < 100:\n",
    "    print('Less than 100')"
   ]
  },
  {
   "cell_type": "code",
   "execution_count": 206,
   "id": "57e56cef",
   "metadata": {},
   "outputs": [
    {
     "name": "stdout",
     "output_type": "stream",
     "text": [
      "Less than 10\n"
     ]
    }
   ],
   "source": [
    "if number < 5:\n",
    "    print('Less than 5')\n",
    "elif number < 10:\n",
    "    print('Less than 10')\n",
    "elif number < 100:\n",
    "    print('Less than 100')"
   ]
  },
  {
   "cell_type": "markdown",
   "id": "e7588b77",
   "metadata": {},
   "source": [
    "### Answer\n",
    "The difference between numerous if-statements and elif-statements is that the elif-statement \n",
    "will only continue up until the first true condition and skip following statements \n",
    "while multiple if-statements will all be checked once.\n",
    "    \n",
    "If a variable is true for multiple conditions and \n",
    "you want each of these statements to be executed use multiple if-statements."
   ]
  },
  {
   "cell_type": "code",
   "execution_count": 111,
   "id": "f3733f97",
   "metadata": {},
   "outputs": [
    {
     "name": "stdout",
     "output_type": "stream",
     "text": [
      "Using elif:\n",
      "You gave a positive number\n",
      "You gave a BIG positive number\n",
      "You gave a negative number\n",
      "Your number is 0\n",
      "\n",
      "Only using if-statements:\n",
      "Given number is 5\n",
      "You gave a positive number\n",
      "Your number is 0\n",
      "\n",
      "Given number is 156\n",
      "You gave a positive number\n",
      "You gave a BIG positive number\n",
      "Your number is 0\n",
      "\n",
      "Given number is -7\n",
      "You gave a negative number\n",
      "\n",
      "Given number is 0\n",
      "Your number is 0\n"
     ]
    }
   ],
   "source": [
    "# Example 1\n",
    "\n",
    "def check_number(number):\n",
    "    if 0 < number < 100:\n",
    "        print ('You gave a positive number')\n",
    "    elif number > 100:\n",
    "        print ('You gave a BIG positive number')\n",
    "    elif number < 0:\n",
    "        print ('You gave a negative number')\n",
    "    else:\n",
    "        print ('Your number is 0')\n",
    "\n",
    "print('Using elif:')\n",
    "check_number(5)\n",
    "check_number(156)\n",
    "check_number(-7)\n",
    "check_number(0)\n",
    "print()\n",
    "\n",
    "\n",
    "def check_number(number):\n",
    "    if number > 0:\n",
    "        print ('You gave a positive number')\n",
    "    if number > 100:\n",
    "        print ('You gave a BIG positive number')\n",
    "    if number < 0:\n",
    "        print ('You gave a negative number')\n",
    "    else:\n",
    "        print ('Your number is 0')\n",
    "\n",
    "print('Only using if-statements:')\n",
    "print('Given number is 5')\n",
    "check_number(5)\n",
    "print()\n",
    "print('Given number is 156')\n",
    "check_number(156)\n",
    "print()\n",
    "print('Given number is -7')\n",
    "check_number(-7)\n",
    "print()\n",
    "print('Given number is 0')\n",
    "check_number(0)\n",
    "\n",
    "# Using only if-statements will result in numbers matching several conditions\n",
    "# and printing multiple sentences which is not the desired result in this case.\n",
    "# Therefore the elif-statements are preferred.\n"
   ]
  },
  {
   "cell_type": "code",
   "execution_count": 30,
   "id": "8d5380d4",
   "metadata": {},
   "outputs": [
    {
     "name": "stdout",
     "output_type": "stream",
     "text": [
      "Bella\n",
      "You have visible hair all over your couch!\n",
      "You have to brush the fur of your dog every week\n",
      "Your dog needs a lot of exercise\n",
      "\n",
      "Rex\n",
      "You have to brush the fur of your dog every day\n",
      "Your dog needs a lot of exercise\n",
      "\n",
      "Kayla\n",
      "You have to brush the fur of your dog every other week\n",
      "Your dog does not need a lot of exercise\n"
     ]
    }
   ],
   "source": [
    "# Example 2\n",
    "\n",
    "class Dog:\n",
    "    \"\"\"Class has a function on how to take care of your dog depending on it's attributes.\"\"\"\n",
    "    \n",
    "    def __init__(self, name, breed, size, color, fur_length):\n",
    "        self.name = name\n",
    "        self.breed = breed\n",
    "        self.size = size\n",
    "        self.color = color\n",
    "        self.fur_length = fur_length\n",
    "    def dog_care(self, color_of_couch):\n",
    "        \"\"\"\n",
    "            An independent if-statement is used when the statements have no relations to one another.\n",
    "            This function contains three of these independent if-statements because the color, \n",
    "            how to take care of the fur and how much exercise is needed have no relation to each other. \n",
    "            The latter two are elif-statements because only one instruction are needed for the \n",
    "            different furtypes/sizes and therefore the condition should be true only once before \n",
    "            ending the search.\n",
    "        \n",
    "        \"\"\"\n",
    "        if color_of_couch == self.color:\n",
    "            print('You have visible hair all over your couch!')\n",
    "    \n",
    "        if self.fur_length == 'Long':\n",
    "            print('You have to brush the fur of your dog every day')\n",
    "        elif self.fur_length == 'Medium':\n",
    "            print('You have to brush the fur of your dog every week')\n",
    "        elif self.fur_length == 'Short':\n",
    "            print('You have to brush the fur of your dog every other week')\n",
    "        else:\n",
    "            print('Your dog have a special type of fur, consult your local grooomer for tips!')\n",
    "    \n",
    "        if self.size == 'Big':\n",
    "            print('Your dog needs a lot of exercise')\n",
    "        elif self.size == 'Medium': \n",
    "            print('Your dog needs quite a lot of exercise')\n",
    "        elif self.size == 'Small':\n",
    "            print('Your dog does not need a lot of exercise')\n",
    "        else:\n",
    "            print('Warning! Unknown size of dog')\n",
    "\n",
    "\n",
    "dog_1 = Dog('Bella', 'Golden retriever', 'Big', 'Beige', 'Medium')\n",
    "dog_2 = Dog('Rex', 'Husky', 'Big', 'Black', 'Long')\n",
    "dog_3 = Dog('Kayla', 'Chihuahua', 'Small', 'Brown', 'Short')\n",
    "\n",
    "print(dog_1.name)\n",
    "dog_1.dog_care('Beige')\n",
    "print()\n",
    "print(dog_2.name)\n",
    "dog_2.dog_care('Red')\n",
    "print()\n",
    "print(dog_3.name)\n",
    "dog_3.dog_care('White')"
   ]
  },
  {
   "cell_type": "markdown",
   "id": "a0a681e0",
   "metadata": {},
   "source": [
    "# Read PEP8 available at: https://peps.python.org/pep-0008/ . Give a short summary of some things that you should have in your \"fingertips\". For example, how should variables be named? How should you write a comment?\n",
    "\n",
    "# Ofcourse, the code you write here and henceforth should to highest possible extent follow the guidelines in PEP8. "
   ]
  },
  {
   "cell_type": "markdown",
   "id": "c2bc0a54",
   "metadata": {},
   "source": [
    "### Some examples on what should be a reflex when programming\n",
    "1. Variables should be lowercase and separated by underscores, ex. variable_example.\n",
    "2. Class should be named using CapWords, that is the first letter \n",
    "   of each word should be uppercase. For example MainHouse or GroundFloorRooms.\n",
    "3. Comments should describe why and not what.\n",
    "4. Comments should be whole sentences and end with a period.\n",
    "5. Limit the lenght of the lines (to 79 characters, or 72 characters if it is a comment).\n",
    "6. The first argument in a function in a class should always be 'self'.\n",
    "7. Have a space between operators and numbers/variable names. \n",
    "   The right way is '1 + 1' and the wrong way is '1+1'."
   ]
  },
  {
   "cell_type": "markdown",
   "id": "b812e1a1",
   "metadata": {},
   "source": [
    "# Classes\n",
    "The exercises are connected to the video available at: https://www.youtube.com/watch?v=M7bnYJyCx0Q from 1:02:20 to 1:14:59.\n",
    "\n",
    "When writing the solutions make sure the code is clear and readable. When providing comments, follow the general principle that you should comment \"why\" you are doing something and not \"what\", the \"what\" is seen by the code itself. "
   ]
  },
  {
   "cell_type": "markdown",
   "id": "3d73235b",
   "metadata": {},
   "source": [
    "### Create a class \"GroceryStore\" with price and quantity instance attributes and then create a new instance swedish_apples whos price is 30 and quantity is 900. Once the instance is created, print out the two attributes. "
   ]
  },
  {
   "cell_type": "code",
   "execution_count": 207,
   "id": "be4dc5bd",
   "metadata": {},
   "outputs": [
    {
     "name": "stdout",
     "output_type": "stream",
     "text": [
      "30\n",
      "900\n"
     ]
    }
   ],
   "source": [
    "class GroceryStore:\n",
    "    def __init__(self, price, quantity):\n",
    "        self.price = price\n",
    "        self.quantity = quantity\n",
    "        \n",
    "swedish_apples = GroceryStore(30, 900)\n",
    "print(swedish_apples.price)\n",
    "print(swedish_apples.quantity)"
   ]
  },
  {
   "cell_type": "markdown",
   "id": "6851f32f",
   "metadata": {},
   "source": [
    "### Create a child class \"Subsidiarie\" that will inherit all of the variables and methods of the \"GroceryStore\" class. Then create a new instance grapes whos price is 50 and quantity is 600. Finally, print out the two  attributes.\n",
    "Hint: Use the keyword \"pass\" when creating the class Subsidiarie."
   ]
  },
  {
   "cell_type": "code",
   "execution_count": 208,
   "id": "e0b8f3b6",
   "metadata": {},
   "outputs": [
    {
     "name": "stdout",
     "output_type": "stream",
     "text": [
      "50\n",
      "600\n"
     ]
    }
   ],
   "source": [
    "class Subsidiarie(GroceryStore):\n",
    "    pass\n",
    "\n",
    "grapes = Subsidiarie(50, 600)\n",
    "print(grapes.price)\n",
    "print(grapes.quantity)"
   ]
  },
  {
   "cell_type": "markdown",
   "id": "47bec27c",
   "metadata": {},
   "source": [
    "### Create a child class \"Competitor\" that will inherit all of the variables and methods of the \"GroceryStore\" class. The class should have a class variable called store_name = competitor_grocery_store. Create an instance danish_apples whos price is 28 and quantity 920. Print out both the instance variables (price and quantity) and the class variable store_name."
   ]
  },
  {
   "cell_type": "code",
   "execution_count": 209,
   "id": "eb516874",
   "metadata": {},
   "outputs": [
    {
     "name": "stdout",
     "output_type": "stream",
     "text": [
      "28\n",
      "920\n",
      "Competitor_grocery_store\n"
     ]
    }
   ],
   "source": [
    "class Competitor(GroceryStore):\n",
    "    store_name = 'Competitor_grocery_store'\n",
    "    \n",
    "danish_apples = Competitor(28, 920)\n",
    "print(danish_apples.price)\n",
    "print(danish_apples.quantity)\n",
    "print(danish_apples.store_name)"
   ]
  },
  {
   "cell_type": "markdown",
   "id": "3bf19bff",
   "metadata": {},
   "source": [
    "### Create a class \"GroceryStoreV2\" with price and quantity instance attributes and a class attribute called owner with the value \"Anna\" assigned to it. Add a method, customer_satisfaction that adds an instance attribute called \"grade\"  that can take values between 1-10, how do you make sure that the grade is between 1-10? Ideally, an exception is raised if grade is outside the allowed boundaries. The class should have a one line documentation string. \n",
    "\n",
    "### Create an instance \"lemons\" with price = 60, quantity = 100. Add a customer_satisfaction_grade that is 8.\n",
    "\n",
    "### Check the type of the lemons instance.\n",
    "\n",
    "### Check if lemons is an instance of the integer class (it should return False since lemons is an instance of GroceryStore_v2). Check if lemons is an instance of the GroceryStore_v2 class (should return True).\n",
    "\n",
    "### Print out the documentation string. "
   ]
  },
  {
   "cell_type": "code",
   "execution_count": 210,
   "id": "359b55bf",
   "metadata": {},
   "outputs": [
    {
     "name": "stdout",
     "output_type": "stream",
     "text": [
      "<class '__main__.GroceryStoreV2'>\n",
      "False\n",
      "GroceryStoreV2 keeps track of owner, price, quantity and customer satisfaction\n"
     ]
    }
   ],
   "source": [
    "class GroceryStoreV2:\n",
    "    '''GroceryStoreV2 keeps track of owner, price, quantity and customer satisfaction'''\n",
    "    owner = 'Anna'\n",
    "    def __init__(self, price, quantity):\n",
    "        self.price = price \n",
    "        self.quantity = quantity\n",
    "    def customer_satisfaction(self, grade):\n",
    "        if(0 < grade < 11):\n",
    "            self.grade = grade\n",
    "        else:\n",
    "            raise Exception('Outside allowed boundaries')\n",
    "\n",
    "lemons = GroceryStoreV2(60, 100)\n",
    "lemons.customer_satisfaction(8)\n",
    "\n",
    "print(type(lemons))\n",
    "\n",
    "if isinstance(lemons, int):\n",
    "    print(True)\n",
    "else:\n",
    "    print(False)\n",
    "    \n",
    "print(GroceryStoreV2.__doc__)"
   ]
  },
  {
   "cell_type": "markdown",
   "id": "49794d77",
   "metadata": {},
   "source": [
    "### Create a class Square whos instances has the attribute side_length. Add two methods, perimeter and area that calculates the perimeter and area respectively given the length of one side which is the only attribute that the class has. Create an instance my_square with the side length 8. Print out the perimeter and area of \"my_square\". "
   ]
  },
  {
   "cell_type": "code",
   "execution_count": 211,
   "id": "a4b1bf09",
   "metadata": {},
   "outputs": [
    {
     "name": "stdout",
     "output_type": "stream",
     "text": [
      "Perimiter: 32\n",
      "Area: 64\n"
     ]
    }
   ],
   "source": [
    "class Square:\n",
    "    def __init__(self, side_length):\n",
    "        self.side_length = side_length\n",
    "    def perimiter(self):\n",
    "        return self.side_length * 4\n",
    "    def area(self):\n",
    "        return self.side_length * self.side_length\n",
    "    \n",
    "my_square = Square(8)\n",
    "print(f'Perimiter:', my_square.perimiter())\n",
    "print(f'Area:', my_square.area())"
   ]
  },
  {
   "cell_type": "markdown",
   "id": "87256a7d",
   "metadata": {},
   "source": [
    "## Explain, in detail, with your own words what the \"DescriptiveStatistics\" class does."
   ]
  },
  {
   "cell_type": "code",
   "execution_count": 212,
   "id": "4b27b7be",
   "metadata": {},
   "outputs": [],
   "source": [
    "# Creating a class named correctly using the CapWords style.\n",
    "class DescriptiveStatistics():\n",
    "    \"\"\"This class provides functionality for calculating descriptive statistics from a list.\"\"\"\n",
    "    \n",
    "    # When creating an instance of the class it will have an attribute 'data' which is a list.\n",
    "    def __init__(self):\n",
    "        self.data = []\n",
    "    \n",
    "     \n",
    "    # The method will add the argument to the instace's data attribute \n",
    "    # provided that the argument is a list.\n",
    "    def add_data(self, data):\n",
    "        if isinstance(data, list):\n",
    "            self.data.extend(data)\n",
    "        else:\n",
    "            raise Exception('Only \"Lists\" are accepted as data.')\n",
    "    \n",
    "    # The method will add all the elements of the instance's data list together.\n",
    "    def calc_sum(self):\n",
    "        return sum(self.data)\n",
    "    \n",
    "    # The method returns the amount of elements inside the instance's data list.\n",
    "    def calc_nbr_of_elements(self):\n",
    "        return len(self.data)\n",
    "    \n",
    "    # The method calculates the average of all elements in the instance's data list.\n",
    "    def calc_mean(self):\n",
    "        return (self.calc_sum())/(self.calc_nbr_of_elements())\n",
    "    \n",
    "    # The method prints the returned values from the three functions above in an easily readable way.\n",
    "    def print_summary(self):\n",
    "        print('Sum:', self.calc_sum())\n",
    "        print('Number of elements:', self.calc_nbr_of_elements())\n",
    "        print('Mean:', self.calc_mean())\n"
   ]
  },
  {
   "cell_type": "code",
   "execution_count": 213,
   "id": "6ea36fcd",
   "metadata": {},
   "outputs": [],
   "source": [
    "L = [1, 2, 1, 3, 5, 7, 4, 9, 10, 3, 2, 1, 6, 4, 3, 2, 1, 10, 9, 1, 8, 7, 3, 2, 1]\n",
    "my_data = DescriptiveStatistics()\n",
    "my_data.add_data(L)"
   ]
  },
  {
   "cell_type": "code",
   "execution_count": 214,
   "id": "34e98225",
   "metadata": {},
   "outputs": [
    {
     "data": {
      "text/plain": [
       "[1, 2, 1, 3, 5, 7, 4, 9, 10, 3, 2, 1, 6, 4, 3, 2, 1, 10, 9, 1, 8, 7, 3, 2, 1]"
      ]
     },
     "execution_count": 214,
     "metadata": {},
     "output_type": "execute_result"
    }
   ],
   "source": [
    "my_data.data"
   ]
  },
  {
   "cell_type": "code",
   "execution_count": 215,
   "id": "7692fc45",
   "metadata": {},
   "outputs": [
    {
     "name": "stdout",
     "output_type": "stream",
     "text": [
      "Sum: 105\n",
      "Number of elements: 25\n",
      "Mean: 4.2\n"
     ]
    }
   ],
   "source": [
    "print('Sum:', my_data.calc_sum())\n",
    "print('Number of elements:', my_data.calc_nbr_of_elements())\n",
    "print('Mean:', my_data.calc_mean())"
   ]
  },
  {
   "cell_type": "code",
   "execution_count": 216,
   "id": "213dad63",
   "metadata": {},
   "outputs": [
    {
     "name": "stdout",
     "output_type": "stream",
     "text": [
      "Sum: 105\n",
      "Number of elements: 25\n",
      "Mean: 4.2\n"
     ]
    }
   ],
   "source": [
    "my_data.print_summary()"
   ]
  },
  {
   "cell_type": "markdown",
   "id": "a371d9b5",
   "metadata": {},
   "source": [
    "#### This is a summary of all the comments made in the first cell of this exercise.\n",
    "    \n",
    "The \"DescriptiveStatistics\" class has one attribute, which is data. \n",
    "To add elements to the data there is a method, add_data, which will only add the data to the attribute if the provided argument is a list.\n",
    "\n",
    "The class also has four other methods:\n",
    "1. calc.sum: adds all the elements of the instance's data list \n",
    "2. calc_nbr_of_elements: returns the amount of elements inside the instance's data list\n",
    "3. calc_mean: calculates the average of all elements in the instance's data list\n",
    "4. print_summary: prints the returned values from the three functions above\n"
   ]
  },
  {
   "cell_type": "markdown",
   "id": "12db29f4",
   "metadata": {},
   "source": [
    "# Exceptions\n",
    "In the video: https://www.youtube.com/watch?v=M7bnYJyCx0Q from 1:09:18 to 1:14:59 Exceptions is covered. Now you shall explain: \n",
    "1. In your own words describe why catching exceptions can be useful.\n",
    "2. Create an example where you *catch* an exception. \n",
    "3. Create a function where you *raise* exceptions for different cases (it can be one or more). Why would you like to raise exceptions?"
   ]
  },
  {
   "cell_type": "markdown",
   "id": "82b7bce1",
   "metadata": {},
   "source": [
    "### Question 1. \n",
    "Catching exceptions are useful in cases where we don't want the program to crash even though an exception arose. \n",
    "For example, if we have a user that wrote the wrong value in a program. \n",
    "We don't want the program to crash, instead we want the program to give the user a message to correct the problem."
   ]
  },
  {
   "cell_type": "code",
   "execution_count": 219,
   "id": "1b368a08",
   "metadata": {},
   "outputs": [
    {
     "name": "stdout",
     "output_type": "stream",
     "text": [
      "Write one number: 15\n",
      "Write another number: gyv\n",
      "Write one of following operators: \"+\", \"-\", \"*\" or \"/\"+\n",
      "Write two numbers!\n",
      "Write \"bye\" to quit: bye\n"
     ]
    }
   ],
   "source": [
    "# Question 2\n",
    "# When asked to write a number, write a letter to see the catching of an exception.\n",
    "\n",
    "def calculator(num_1, num_2, operator):\n",
    "    \"\"\"Function that can add, substract, multiply or divide.\"\"\"\n",
    "    if operator == '+':\n",
    "        return num_1 + num_2\n",
    "    elif operator == '-':\n",
    "        return num_1 + num_2\n",
    "    elif operator == '*':\n",
    "        return num_1 * num_2\n",
    "    elif operator == '/':\n",
    "        return num_1 + num_2\n",
    "    else:\n",
    "        print('Write a valid operator: \"+\", \"-\", \"*\" or \"/\"')\n",
    "\n",
    "while continue_or_not != 'bye':\n",
    "    number_1 = input('Write one number: ')\n",
    "    number_2 = input('Write another number: ')\n",
    "    operator = input('Write one of following operators: \"+\", \"-\", \"*\" or \"/\"')\n",
    "    try:\n",
    "        print(calculator(int(number_1), int(number_2), operator))\n",
    "    except ValueError:\n",
    "        print('Write two numbers!')\n",
    "    continue_or_not = input('Write \"bye\" to quit: ')\n"
   ]
  },
  {
   "cell_type": "code",
   "execution_count": 220,
   "id": "e4c749be",
   "metadata": {},
   "outputs": [
    {
     "name": "stdout",
     "output_type": "stream",
     "text": [
      "At place number 0 you can find Johan\n"
     ]
    },
    {
     "ename": "IndexError",
     "evalue": "The given index is too big",
     "output_type": "error",
     "traceback": [
      "\u001b[1;31m---------------------------------------------------------------------------\u001b[0m",
      "\u001b[1;31mIndexError\u001b[0m                                Traceback (most recent call last)",
      "Cell \u001b[1;32mIn[220], line 21\u001b[0m\n\u001b[0;32m     18\u001b[0m     \u001b[38;5;28mprint\u001b[39m (\u001b[38;5;124mf\u001b[39m\u001b[38;5;124m'\u001b[39m\u001b[38;5;124mAt place number \u001b[39m\u001b[38;5;132;01m{\u001b[39;00mindex\u001b[38;5;132;01m}\u001b[39;00m\u001b[38;5;124m you can find \u001b[39m\u001b[38;5;132;01m{\u001b[39;00mprice_name_list[index]\u001b[38;5;132;01m}\u001b[39;00m\u001b[38;5;124m'\u001b[39m)\n\u001b[0;32m     20\u001b[0m find_someone(price_name_list, \u001b[38;5;241m0\u001b[39m)\n\u001b[1;32m---> 21\u001b[0m find_someone(price_name_list, \u001b[38;5;241m200\u001b[39m)\n\u001b[0;32m     22\u001b[0m \u001b[38;5;66;03m# Remove the statement above to run following and check it's exception\u001b[39;00m\n\u001b[0;32m     23\u001b[0m find_someone(price_name_list, \u001b[38;5;124m'\u001b[39m\u001b[38;5;124mT\u001b[39m\u001b[38;5;124m'\u001b[39m)\n",
      "Cell \u001b[1;32mIn[220], line 17\u001b[0m, in \u001b[0;36mfind_someone\u001b[1;34m(given_list, index)\u001b[0m\n\u001b[0;32m     15\u001b[0m     \u001b[38;5;28;01mraise\u001b[39;00m \u001b[38;5;167;01mTypeError\u001b[39;00m (\u001b[38;5;124m'\u001b[39m\u001b[38;5;124mThe provided argument does not fit the required variable type\u001b[39m\u001b[38;5;124m'\u001b[39m)\n\u001b[0;32m     16\u001b[0m \u001b[38;5;28;01mif\u001b[39;00m index \u001b[38;5;241m>\u001b[39m \u001b[38;5;28mlen\u001b[39m(given_list):\n\u001b[1;32m---> 17\u001b[0m     \u001b[38;5;28;01mraise\u001b[39;00m \u001b[38;5;167;01mIndexError\u001b[39;00m (\u001b[38;5;124m'\u001b[39m\u001b[38;5;124mThe given index is too big\u001b[39m\u001b[38;5;124m'\u001b[39m)\n\u001b[0;32m     18\u001b[0m \u001b[38;5;28mprint\u001b[39m (\u001b[38;5;124mf\u001b[39m\u001b[38;5;124m'\u001b[39m\u001b[38;5;124mAt place number \u001b[39m\u001b[38;5;132;01m{\u001b[39;00mindex\u001b[38;5;132;01m}\u001b[39;00m\u001b[38;5;124m you can find \u001b[39m\u001b[38;5;132;01m{\u001b[39;00mprice_name_list[index]\u001b[38;5;132;01m}\u001b[39;00m\u001b[38;5;124m'\u001b[39m)\n",
      "\u001b[1;31mIndexError\u001b[0m: The given index is too big"
     ]
    }
   ],
   "source": [
    "# Question 3\n",
    "\n",
    "\"\"\"\n",
    "    Raising an exception can be useful when you as a programmer want to know what went wrong \n",
    "    and solve the problem in the code connected to that crash. It is also for this reason that \n",
    "    you normally don't use an 'except' with nothing afterwards, because it will catch everything\n",
    "    even something as small as a spelling error. \n",
    "    \n",
    "\"\"\"\n",
    "\n",
    "price_name_list = ['Johan', 'Klas', 'Hanna', 'Tyra', 'Per', 'Helen', 'Sondre', 'Vidar', 'Ylva']\n",
    "\n",
    "def find_someone(given_list, index):\n",
    "    if not type(index) == int:\n",
    "        raise TypeError ('The provided argument does not fit the required variable type')\n",
    "    if index > len(given_list):\n",
    "        raise IndexError ('The given index is too big')\n",
    "    print (f'At place number {index} you can find {price_name_list[index]}')\n",
    "\n",
    "find_someone(price_name_list, 0)\n",
    "find_someone(price_name_list, 200)\n",
    "# Remove the statement above to run following and check it's exception\n",
    "find_someone(price_name_list, 'T')\n",
    "\n",
    "\n"
   ]
  },
  {
   "cell_type": "markdown",
   "id": "63821e44",
   "metadata": {},
   "source": [
    "# Självutvärdering\n",
    "Besvara nedanstående frågor som en hjälp till reflektion. \n",
    "\n",
    "1. Hur har arbetet gått? Vad är du nöjd med och vad kan du förbättra till framöver i kursen? \n",
    "2. Vilket betyg anser du att du skall ha och varför? \n",
    "3. Något du vill lyfta fram till Antonio?"
   ]
  },
  {
   "cell_type": "markdown",
   "id": "d40db1be",
   "metadata": {},
   "source": [
    "1. Arbetet har gått bra för mig, jag har hållt mig till planeringen och därmed hängt \n",
    "   med på lektionerna utan problem. Jag vänjer mig fortfarande lite vid sättet att läsa\n",
    "   kursböcker på, så kommer fortsättta arbeta med det. \n",
    "2. Jag anser att jag borde få VG då jag löst alla uppgifter och till bästa förmåga hållt mig till PEP8 \n",
    "   för att göra koden lättläst och effektiv.\n",
    " 3. Inget speciellt just nu :)"
   ]
  }
 ],
 "metadata": {
  "kernelspec": {
   "display_name": "Python 3 (ipykernel)",
   "language": "python",
   "name": "python3"
  },
  "language_info": {
   "codemirror_mode": {
    "name": "ipython",
    "version": 3
   },
   "file_extension": ".py",
   "mimetype": "text/x-python",
   "name": "python",
   "nbconvert_exporter": "python",
   "pygments_lexer": "ipython3",
   "version": "3.11.5"
  }
 },
 "nbformat": 4,
 "nbformat_minor": 5
}
